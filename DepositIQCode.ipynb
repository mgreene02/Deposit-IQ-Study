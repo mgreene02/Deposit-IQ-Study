{
 "cells": [
  {
   "cell_type": "markdown",
   "metadata": {},
   "source": [
    "# In-House Enrollment Analytics \n",
    "\n",
    "<H3>Recreating and improving upon 3rd party analytics</H3>\n",
    "\n",
    "<H3>by Michael Greene, PhD</H3>\n",
    "\n",
    "This report is a brief summary (with comments) of the code used to develop a logistic regression model which was used to predict if admitted students will enroll at our University. \n",
    "\n",
    "Let's begin by importing some packages:"
   ]
  },
  {
   "cell_type": "code",
   "execution_count": 18,
   "metadata": {},
   "outputs": [],
   "source": [
    "import pandas as pd \n",
    "import numpy as np \n",
    "# import GreeneLib as gl ## This is a custom library I built with a few functions I use reguarly\n",
    "import warnings\n",
    "warnings.filterwarnings(\"ignore\", category=FutureWarning)"
   ]
  },
  {
   "cell_type": "code",
   "execution_count": null,
   "metadata": {},
   "outputs": [],
   "source": []
  },
  {
   "cell_type": "code",
   "execution_count": 19,
   "metadata": {},
   "outputs": [
    {
     "name": "stdout",
     "output_type": "stream",
     "text": [
      "<class 'pandas.core.frame.DataFrame'>\n",
      "Int64Index: 5315 entries, 0 to 5314\n",
      "Data columns (total 15 columns):\n",
      "TCU ID                          5315 non-null int64\n",
      "App Demonstrated Interest       5287 non-null float64\n",
      "TCU Deposit IQ Response         1221 non-null float64\n",
      "Deposit IQ Response             4094 non-null float64\n",
      "TCU Excitement Reasons          92 non-null object\n",
      "TCU Deposit IQ Decision Help    849 non-null object\n",
      "OtherDescription                130 non-null object\n",
      "TCU Deposit IQ Contact Help     681 non-null object\n",
      "Comments                        220 non-null object\n",
      "OtherDescription2               10 non-null object\n",
      "Deposited                       5315 non-null int64\n",
      "Test_Train                      5315 non-null object\n",
      "StudentID                       5217 non-null float64\n",
      "ACRK                            5217 non-null float64\n",
      "Semester                        5217 non-null object\n",
      "dtypes: float64(5), int64(2), object(8)\n",
      "memory usage: 664.4+ KB\n",
      "None\n"
     ]
    }
   ],
   "source": [
    "## -- Load and Merge -- ##\n",
    "\n",
    "df = pd.read_csv(\"Data1.csv\", header=0, sep=\",\")\n",
    "df_acad = pd.read_csv(\"Data2.csv\", header=0, sep=\",\")\n",
    "df = pd.merge(df, df_acad, how=\"left\", left_on=\"TCU ID\", right_on=\"StudentID\")\n",
    "print(df.info())"
   ]
  },
  {
   "cell_type": "markdown",
   "metadata": {},
   "source": [
    "Now to cleanup the results"
   ]
  },
  {
   "cell_type": "code",
   "execution_count": 20,
   "metadata": {},
   "outputs": [],
   "source": [
    "def GreeneDytpe(dataframe, dtype_dict):\n",
    "    \"\"\"\n",
    "    This function takes a dataframe as the first argument, and a dictionary of dtypes \n",
    "    as keys and list of columns as values and converts the given df to a new df with \n",
    "    provided dtypes\n",
    "    \"\"\"\n",
    "    for dt, col in dtype_dict.items():\n",
    "        for c in col:\n",
    "            dataframe[c] = dataframe[c].astype(dt)\n",
    "    print(dataframe.info())\n",
    "    return(dataframe)"
   ]
  },
  {
   "cell_type": "code",
   "execution_count": 29,
   "metadata": {},
   "outputs": [
    {
     "name": "stdout",
     "output_type": "stream",
     "text": [
      "<class 'pandas.core.frame.DataFrame'>\n",
      "RangeIndex: 5085 entries, 0 to 5084\n",
      "Data columns (total 16 columns):\n",
      "TCU ID                          5085 non-null object\n",
      "App Demonstrated Interest       5057 non-null float64\n",
      "TCU Deposit IQ Response         1221 non-null float64\n",
      "Deposit IQ Response             3864 non-null float64\n",
      "TCU Excitement Reasons          92 non-null category\n",
      "TCU Deposit IQ Decision Help    849 non-null category\n",
      "OtherDescription                130 non-null object\n",
      "TCU Deposit IQ Contact Help     681 non-null category\n",
      "Comments                        220 non-null object\n",
      "OtherDescription2               10 non-null object\n",
      "Deposited                       5085 non-null category\n",
      "Test_Train                      5085 non-null category\n",
      "StudentID                       4995 non-null object\n",
      "ACRK                            4995 non-null float64\n",
      "Semester                        4995 non-null object\n",
      "Deposit_IQ_Response             5085 non-null int8\n",
      "dtypes: category(5), float64(4), int8(1), object(6)\n",
      "memory usage: 428.2+ KB\n",
      "None\n"
     ]
    }
   ],
   "source": [
    "## -- Cleanup -- ##\n",
    "df[\"Deposit_IQ_Response\"] = df[\"Deposit IQ Response\"].fillna(df[\"TCU Deposit IQ Response\"])\n",
    "\n",
    "ddict = {\n",
    "    \"category\":[\"TCU Excitement Reasons\", \"TCU Deposit IQ Decision Help\", \n",
    "                \"TCU Deposit IQ Contact Help\", \n",
    "                \"Deposited\", \"Test_Train\"],\n",
    "    \"float\":[\"ACRK\", \"Deposit IQ Response\", \"TCU Deposit IQ Response\",\n",
    "             \"App Demonstrated Interest\"],\n",
    "    \"int8\":[\"Deposit_IQ_Response\"],\n",
    "    \"object\":[\"TCU ID\", \"StudentID\"]\n",
    "    }\n",
    "\n",
    "\n",
    "df = GreeneDytpe(df, ddict)"
   ]
  },
  {
   "cell_type": "code",
   "execution_count": 22,
   "metadata": {},
   "outputs": [],
   "source": [
    "## -- Define Factors and Targets -- ##\n",
    "factors = [\"App Demonstrated Interest\",\n",
    "               \"Deposit_IQ_Response\", \n",
    "               \"ACRK\", \n",
    "               ]\n",
    "target = [\"Deposited\"]\n",
    "\n",
    "# - Remove people who have already deposited from training - #\n",
    "df = df[df[\"Deposit_IQ_Response\"] != 5].reset_index(drop=True)\n",
    "\n",
    "## - Splitting test/train -- ##\n",
    "df_train = df[df[\"Test_Train\"]==\"TRAIN\"].loc[:,factors+target\n",
    "                    ].dropna(how=\"any\", axis=0\n",
    "                    ).reset_index(drop=True)\n",
    "df_test = df[df[\"Test_Train\"]==\"TEST\"].loc[:,factors+target\n",
    "                    ].dropna(how=\"any\", axis=0\n",
    "                    ).reset_index(drop=True)"
   ]
  },
  {
   "cell_type": "code",
   "execution_count": 23,
   "metadata": {},
   "outputs": [
    {
     "name": "stdout",
     "output_type": "stream",
     "text": [
      "(3808, 3)\n",
      "(3808,)\n",
      "<class 'pandas.core.frame.DataFrame'>\n",
      "RangeIndex: 3808 entries, 0 to 3807\n",
      "Data columns (total 3 columns):\n",
      "App Demonstrated Interest    3808 non-null float64\n",
      "Deposit_IQ_Response          3808 non-null int8\n",
      "ACRK                         3808 non-null float64\n",
      "dtypes: float64(2), int8(1)\n",
      "memory usage: 63.3 KB\n",
      "None\n"
     ]
    },
    {
     "name": "stderr",
     "output_type": "stream",
     "text": [
      "/home/jupyterlab/conda/lib/python3.6/site-packages/sklearn/preprocessing/label.py:235: DataConversionWarning: A column-vector y was passed when a 1d array was expected. Please change the shape of y to (n_samples, ), for example using ravel().\n",
      "  y = column_or_1d(y, warn=True)\n"
     ]
    }
   ],
   "source": [
    "from sklearn.preprocessing import LabelEncoder\n",
    "le = LabelEncoder()\n",
    "y = le.fit_transform(df_train[target])\n",
    "\n",
    "X = df_train.drop(target[0], axis=1)\n",
    "X = pd.get_dummies(X, drop_first=True)\n",
    "print(X.shape)\n",
    "print(y.shape)\n",
    "\n",
    "print(X.info())"
   ]
  },
  {
   "cell_type": "code",
   "execution_count": 24,
   "metadata": {},
   "outputs": [
    {
     "name": "stdout",
     "output_type": "stream",
     "text": [
      "(2551, 3)\n",
      "(1257, 3)\n",
      "(2551,)\n",
      "(1257,)\n",
      "Tuned hpyerparameters (best parameters): {'C': 1.0, 'max_iter': 100, 'penalty': 'l1'}\n",
      "Best Training Accuracy: 93.49% (Base=80.28%)\n"
     ]
    }
   ],
   "source": [
    "from sklearn.model_selection import train_test_split\n",
    "X_train, X_test, y_train, y_test = train_test_split(X,y, test_size=0.33, random_state=0)#, stratify=y)\n",
    "print(X_train.shape)\n",
    "print(X_test.shape)\n",
    "print(y_train.shape)\n",
    "print(y_test.shape)\n",
    "\n",
    "## -- Logistic Classification -- ##\n",
    "from sklearn.linear_model import LogisticRegression\n",
    "from sklearn.model_selection import GridSearchCV\n",
    "\n",
    "clf = LogisticRegression(penalty='l2', dual=False, tol=0.0001, C=1.0, \n",
    "                             fit_intercept=True, intercept_scaling=1, class_weight=\"balanced\", \n",
    "                             random_state=0, multi_class='auto', \n",
    "                             verbose=0, warm_start=False, n_jobs=None)\n",
    "cv = 5\n",
    "grid = {\"C\":np.logspace(-5,5,7), \"penalty\":[\"l1\",\"l2\"], \"max_iter\":[100,200,500]} # l1 lasso l2 ridge\n",
    "\n",
    "logreg_cv = GridSearchCV(clf, grid, cv=cv, refit=True)\n",
    "logreg_cv.fit(X_train, y_train)\n",
    "\n",
    "print(\"Tuned hpyerparameters (best parameters):\", logreg_cv.best_params_)\n",
    "print(\"Best Training Accuracy: {trn_a}% (Base={ba}%)\".format(trn_a=round(logreg_cv.best_score_*100, 2),\n",
    "                                                                 ba=round(100-y_train.mean()*100, 2)))"
   ]
  },
  {
   "cell_type": "code",
   "execution_count": 25,
   "metadata": {},
   "outputs": [
    {
     "name": "stdout",
     "output_type": "stream",
     "text": [
      "[[960  53]\n",
      " [ 28 216]]\n",
      "Testing Accuracy: 93.56% (Base=80.59%)\n",
      "Classes: [0 1]\n",
      "Factor Weights: [(0.21608, 'App Demonstrated Interest'), (2.6101, 'Deposit_IQ_Response'), (0.22891, 'ACRK')]\n",
      "Intercept: [-7.19152611]\n",
      "AUC Score: 0.9164630297930186\n"
     ]
    }
   ],
   "source": [
    "## -- Evaluation Metrics -- ##\n",
    "from sklearn.metrics import confusion_matrix\n",
    "matrix = confusion_matrix(y_test, logreg_cv.predict(X_test))\n",
    "print(matrix)\n",
    "print(\"Testing Accuracy: {tst_a}% (Base={ba}%)\".format(tst_a=round(logreg_cv.score(X_test, y_test)*100, 2),\n",
    "                                                           ba=round(100-y_test.mean()*100, 2)))\n",
    "\n",
    "print(\"Classes:\",logreg_cv.best_estimator_.classes_) # 0 False, 1 True\n",
    "coef_list = [round(w, 5) for w in logreg_cv.best_estimator_.coef_[0]]\n",
    "print(\"Factor Weights:\",list(zip(coef_list, X.columns)))\n",
    "print(\"Intercept:\", logreg_cv.best_estimator_.intercept_)\n",
    "\n",
    "from sklearn import metrics\n",
    "fpr, tpr, thresholds = metrics.roc_curve(y_test, logreg_cv.best_estimator_.predict(X_test), pos_label=1)\n",
    "print(\"AUC Score:\", metrics.auc(fpr, tpr))"
   ]
  },
  {
   "cell_type": "code",
   "execution_count": 26,
   "metadata": {},
   "outputs": [
    {
     "name": "stdout",
     "output_type": "stream",
     "text": [
      "      App Demonstrated Interest  Deposit_IQ_Response  ACRK\n",
      "1830                        4.0                    2   2.0\n",
      "725                         3.0                    1   3.0\n",
      "3804                        3.0                    1   3.0\n",
      "[[0.65682869 0.34317131]\n",
      " [0.96254596 0.03745404]\n",
      " [0.96254596 0.03745404]]\n",
      "[0 0 0]\n",
      "...\n"
     ]
    }
   ],
   "source": [
    "## -- Logistic Regression Equation -- ##\n",
    "\"\"\"\n",
    "f(x) = 1 / (1 + [exp(-(B0 + B1x1 + B2x2 + B3x3 + ... + BnXn))])\n",
    "\"\"\"\n",
    "print(X_test[0:3].to_string())\n",
    "print(logreg_cv.best_estimator_.predict_proba(X_test[0:3])) # 0 is False (will not deposit); 1 is True (will deposit)\n",
    "print(logreg_cv.best_estimator_.predict(X_test[0:3])) # 0 is False (will not deposit); 1 is True (will deposit)\n",
    "print(\"...\")"
   ]
  },
  {
   "cell_type": "code",
   "execution_count": null,
   "metadata": {},
   "outputs": [],
   "source": []
  },
  {
   "cell_type": "markdown",
   "metadata": {},
   "source": [
    "#Thanks for reading "
   ]
  }
 ],
 "metadata": {
  "kernelspec": {
   "display_name": "Python 3",
   "language": "python",
   "name": "python3"
  },
  "language_info": {
   "codemirror_mode": {
    "name": "ipython",
    "version": 3
   },
   "file_extension": ".py",
   "mimetype": "text/x-python",
   "name": "python",
   "nbconvert_exporter": "python",
   "pygments_lexer": "ipython3",
   "version": "3.6.8"
  }
 },
 "nbformat": 4,
 "nbformat_minor": 2
}
